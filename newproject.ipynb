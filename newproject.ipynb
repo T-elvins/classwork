{
 "cells": [
  {
   "cell_type": "code",
   "execution_count": 3,
   "id": "24bb779e-c59f-46ca-b118-963ea346cafe",
   "metadata": {},
   "outputs": [
    {
     "name": "stdout",
     "output_type": "stream",
     "text": [
      "sorry, you lose,\n"
     ]
    }
   ],
   "source": [
    "width = 0\n",
    "height = 0 \n",
    "color = 'red'\n",
    "emphasis = 'strong'\n",
    "\n",
    "if width ==  0 and height == 0 and color == 'red' and emphasis == 'strong' or highlight >100:\n",
    " print('sorry, you lose,')"
   ]
  },
  {
   "cell_type": "code",
   "execution_count": 8,
   "id": "8c0c0ff9-7ce4-4407-b029-56627f141600",
   "metadata": {},
   "outputs": [
    {
     "name": "stdin",
     "output_type": "stream",
     "text": [
      "enter the radius ; 4.0\n"
     ]
    },
    {
     "name": "stdout",
     "output_type": "stream",
     "text": [
      "radius of the circle 4.0\n",
      "area of the circle 50.24\n",
      "circumfrence of the circle 25.12\n"
     ]
    }
   ],
   "source": [
    "pI = 3.14\n",
    "radius = float(input('enter the radius ;'))\n",
    "circum = pI * radius * radius\n",
    "area = 2.0 *pI * radius\n",
    "\n",
    "print('radius of the circle', radius)\n",
    "print('area of the circle', circum)\n",
    "print('circumfrence of the circle'"
   ]
  },
  {
   "cell_type": "code",
   "execution_count": 9,
   "id": "5ffd188f-5a52-4e47-8353-54162946803d",
   "metadata": {},
   "outputs": [
    {
     "data": {
      "text/plain": [
       "int"
      ]
     },
     "execution_count": 9,
     "metadata": {},
     "output_type": "execute_result"
    }
   ],
   "source": [
    "type(200)  #let you know data type of 200"
   ]
  },
  {
   "cell_type": "code",
   "execution_count": 10,
   "id": "21f204d2-d668-4e4f-a9d5-6ca1fcd462a3",
   "metadata": {},
   "outputs": [
    {
     "data": {
      "text/plain": [
       "float"
      ]
     },
     "execution_count": 10,
     "metadata": {},
     "output_type": "execute_result"
    }
   ],
   "source": [
    "type(100.0) # let you know data type of 100"
   ]
  },
  {
   "cell_type": "code",
   "execution_count": 11,
   "id": "aac98178-2172-4f84-a9c9-52a08cc45e7a",
   "metadata": {},
   "outputs": [
    {
     "data": {
      "text/plain": [
       "str"
      ]
     },
     "execution_count": 11,
     "metadata": {},
     "output_type": "execute_result"
    }
   ],
   "source": [
    "type('200') # let you know the data type 200"
   ]
  },
  {
   "cell_type": "code",
   "execution_count": 15,
   "id": "630289bf-6a5c-4a6b-ae34-61e4f36afece",
   "metadata": {},
   "outputs": [
    {
     "ename": "SyntaxError",
     "evalue": "cannot assign to function call here. Maybe you meant '==' instead of '='? (1369062854.py, line 1)",
     "output_type": "error",
     "traceback": [
      "\u001b[1;36m  Cell \u001b[1;32mIn[15], line 1\u001b[1;36m\u001b[0m\n\u001b[1;33m    print(python) = \"my hello world,\" + 10\u001b[0m\n\u001b[1;37m    ^\u001b[0m\n\u001b[1;31mSyntaxError\u001b[0m\u001b[1;31m:\u001b[0m cannot assign to function call here. Maybe you meant '==' instead of '='?\n"
     ]
    }
   ],
   "source": [
    "print(python) = \"my hello world,\" + 10"
   ]
  },
  {
   "cell_type": "code",
   "execution_count": 16,
   "id": "c10a4681-7e23-45de-8f57-b02382549797",
   "metadata": {},
   "outputs": [
    {
     "ename": "TypeError",
     "evalue": "can only concatenate str (not \"int\") to str",
     "output_type": "error",
     "traceback": [
      "\u001b[1;31m---------------------------------------------------------------------------\u001b[0m",
      "\u001b[1;31mTypeError\u001b[0m                                 Traceback (most recent call last)",
      "Cell \u001b[1;32mIn[16], line 1\u001b[0m\n\u001b[1;32m----> 1\u001b[0m python \u001b[38;5;241m=\u001b[39m \u001b[38;5;124m\"\u001b[39m\u001b[38;5;124mmy hello world,\u001b[39m\u001b[38;5;124m\"\u001b[39m \u001b[38;5;241m+\u001b[39m \u001b[38;5;241m10\u001b[39m\n",
      "\u001b[1;31mTypeError\u001b[0m: can only concatenate str (not \"int\") to str"
     ]
    }
   ],
   "source": [
    "python = \"my hello world,\" + 10"
   ]
  },
  {
   "cell_type": "code",
   "execution_count": 20,
   "id": "834af72e-4cd5-4ad8-8164-5f112c2007bc",
   "metadata": {},
   "outputs": [
    {
     "ename": "TypeError",
     "evalue": "can only concatenate str (not \"int\") to str",
     "output_type": "error",
     "traceback": [
      "\u001b[1;31m---------------------------------------------------------------------------\u001b[0m",
      "\u001b[1;31mTypeError\u001b[0m                                 Traceback (most recent call last)",
      "Cell \u001b[1;32mIn[20], line 1\u001b[0m\n\u001b[1;32m----> 1\u001b[0m python \u001b[38;5;241m=\u001b[39m \u001b[38;5;124m\"\u001b[39m\u001b[38;5;124mmy hello world\u001b[39m\u001b[38;5;124m\"\u001b[39m \u001b[38;5;241m+\u001b[39m \u001b[38;5;241m10\u001b[39m\n\u001b[0;32m      2\u001b[0m \u001b[38;5;28mprint\u001b[39m (python)\n",
      "\u001b[1;31mTypeError\u001b[0m: can only concatenate str (not \"int\") to str"
     ]
    }
   ],
   "source": [
    "python = \"my hello world\" + 10\n",
    "print (python)"
   ]
  },
  {
   "cell_type": "code",
   "execution_count": 22,
   "id": "8415895c-104a-49f5-aa2e-76d170a9a7dc",
   "metadata": {},
   "outputs": [
    {
     "name": "stdout",
     "output_type": "stream",
     "text": [
      "20\n"
     ]
    }
   ],
   "source": [
    "python = 10+10\n",
    "print(python)"
   ]
  },
  {
   "cell_type": "code",
   "execution_count": 23,
   "id": "10fda177-e687-43a6-8935-6c8efbfd9428",
   "metadata": {},
   "outputs": [
    {
     "name": "stdout",
     "output_type": "stream",
     "text": [
      "helloworld\n"
     ]
    }
   ],
   "source": [
    "python = \"hello\" + \"world\"\n",
    "print(python)"
   ]
  },
  {
   "cell_type": "code",
   "execution_count": null,
   "id": "cb9a1720-23aa-4664-bcd8-b98c58d74ed8",
   "metadata": {},
   "outputs": [],
   "source": []
  },
  {
   "cell_type": "code",
   "execution_count": 24,
   "id": "6b891d73-31a7-4451-8687-4936d7d1e305",
   "metadata": {},
   "outputs": [
    {
     "data": {
      "text/plain": [
       "1"
      ]
     },
     "execution_count": 24,
     "metadata": {},
     "output_type": "execute_result"
    }
   ],
   "source": [
    "5//3"
   ]
  },
  {
   "cell_type": "code",
   "execution_count": 25,
   "id": "3a6942ff-9cb1-49b4-880f-e7605a579f1d",
   "metadata": {},
   "outputs": [
    {
     "data": {
      "text/plain": [
       "20"
      ]
     },
     "execution_count": 25,
     "metadata": {},
     "output_type": "execute_result"
    }
   ],
   "source": [
    "4*5"
   ]
  },
  {
   "cell_type": "code",
   "execution_count": 27,
   "id": "aa14c32e-f1b7-4f12-8201-e0865f75c96e",
   "metadata": {},
   "outputs": [
    {
     "data": {
      "text/plain": [
       "1000"
      ]
     },
     "execution_count": 27,
     "metadata": {},
     "output_type": "execute_result"
    }
   ],
   "source": [
    "10**3"
   ]
  },
  {
   "cell_type": "code",
   "execution_count": 29,
   "id": "81869af9-1f47-4916-aead-3984b7b319b9",
   "metadata": {},
   "outputs": [
    {
     "data": {
      "text/plain": [
       "1.8"
      ]
     },
     "execution_count": 29,
     "metadata": {},
     "output_type": "execute_result"
    }
   ],
   "source": [
    "9/5"
   ]
  },
  {
   "cell_type": "code",
   "execution_count": 30,
   "id": "7194ab66-9f24-4c72-b7d1-f2deb31e307a",
   "metadata": {},
   "outputs": [
    {
     "data": {
      "text/plain": [
       "49"
      ]
     },
     "execution_count": 30,
     "metadata": {},
     "output_type": "execute_result"
    }
   ],
   "source": [
    "(3+4) * (5+2)"
   ]
  },
  {
   "cell_type": "code",
   "execution_count": 31,
   "id": "91c9d6b1-b4dc-48af-9b4c-8d56b4726386",
   "metadata": {},
   "outputs": [
    {
     "data": {
      "text/plain": [
       "1.0"
      ]
     },
     "execution_count": 31,
     "metadata": {},
     "output_type": "execute_result"
    }
   ],
   "source": [
    "(3+4) / (5+2)"
   ]
  },
  {
   "cell_type": "code",
   "execution_count": 32,
   "id": "772a1b28-bce7-4b34-923e-be7caee328e5",
   "metadata": {},
   "outputs": [],
   "source": [
    "age=\"10\""
   ]
  },
  {
   "cell_type": "code",
   "execution_count": 33,
   "id": "b9730f7b-0a6f-47bf-a24b-d9a30f7d78b7",
   "metadata": {},
   "outputs": [],
   "source": [
    "age=10"
   ]
  },
  {
   "cell_type": "code",
   "execution_count": 34,
   "id": "e7034e09-b649-4c9c-9bc0-ed94abf3d603",
   "metadata": {},
   "outputs": [
    {
     "data": {
      "text/plain": [
       "70"
      ]
     },
     "execution_count": 34,
     "metadata": {},
     "output_type": "execute_result"
    }
   ],
   "source": [
    "int(\"50\")+20"
   ]
  },
  {
   "cell_type": "code",
   "execution_count": 44,
   "id": "606d3d04-1829-47dc-9467-84ea7e1a4565",
   "metadata": {},
   "outputs": [
    {
     "ename": "SyntaxError",
     "evalue": "cannot assign to literal here. Maybe you meant '==' instead of '='? (3198616324.py, line 1)",
     "output_type": "error",
     "traceback": [
      "\u001b[1;36m  Cell \u001b[1;32mIn[44], line 1\u001b[1;36m\u001b[0m\n\u001b[1;33m    \"10\"=string(10)\u001b[0m\n\u001b[1;37m    ^\u001b[0m\n\u001b[1;31mSyntaxError\u001b[0m\u001b[1;31m:\u001b[0m cannot assign to literal here. Maybe you meant '==' instead of '='?\n"
     ]
    }
   ],
   "source": [
    "\"10\"=string(10)"
   ]
  },
  {
   "cell_type": "code",
   "execution_count": 37,
   "id": "1eeeaa31-7885-46f3-8349-844262973265",
   "metadata": {},
   "outputs": [
    {
     "data": {
      "text/plain": [
       "'helloworld'"
      ]
     },
     "execution_count": 37,
     "metadata": {},
     "output_type": "execute_result"
    }
   ],
   "source": [
    "\"hello\" + \"world\""
   ]
  },
  {
   "cell_type": "code",
   "execution_count": 38,
   "id": "b68e5850-8c29-4326-ab7e-fd4d377e7f84",
   "metadata": {},
   "outputs": [
    {
     "data": {
      "text/plain": [
       "'hello world'"
      ]
     },
     "execution_count": 38,
     "metadata": {},
     "output_type": "execute_result"
    }
   ],
   "source": [
    "\"hello \" + \"world\""
   ]
  },
  {
   "cell_type": "code",
   "execution_count": 40,
   "id": "612c4b81-a05a-44e2-ab92-f47c08f9a764",
   "metadata": {},
   "outputs": [
    {
     "data": {
      "text/plain": [
       "'textrepeatrepeatrepeatrepeatrepeatrepeatrepeatrepeatrepeatrepeat'"
      ]
     },
     "execution_count": 40,
     "metadata": {},
     "output_type": "execute_result"
    }
   ],
   "source": [
    "\"text\" + \"repeat\" *10"
   ]
  },
  {
   "cell_type": "code",
   "execution_count": 47,
   "id": "93e11317-a4c9-4f03-92cf-609fe71d2a73",
   "metadata": {},
   "outputs": [
    {
     "data": {
      "text/plain": [
       "'textrepeatrepeatrepeatrepeatrepeatrepeatrepeatrepeatrepeatrepeat'"
      ]
     },
     "execution_count": 47,
     "metadata": {},
     "output_type": "execute_result"
    }
   ],
   "source": [
    "\"text\" + \"repeat\" *10"
   ]
  },
  {
   "cell_type": "code",
   "execution_count": 49,
   "id": "abbe0693-d14b-41d4-8a42-a9e974483ec9",
   "metadata": {},
   "outputs": [
    {
     "name": "stdout",
     "output_type": "stream",
     "text": [
      "\"double quatation marks\"\n"
     ]
    }
   ],
   "source": [
    "print(\"\\\"double quatation marks\\\"\")"
   ]
  },
  {
   "cell_type": "code",
   "execution_count": 53,
   "id": "c570138b-79f1-4727-8b75-a78f82acecb1",
   "metadata": {},
   "outputs": [
    {
     "name": "stdout",
     "output_type": "stream",
     "text": [
      "'single quatation mark'\n"
     ]
    }
   ],
   "source": [
    "print(\"\\'single quatation mark\\'\")"
   ]
  },
  {
   "cell_type": "code",
   "execution_count": 57,
   "id": "3ee63c56-4bc1-4902-91b4-d02bf4c6de87",
   "metadata": {},
   "outputs": [
    {
     "name": "stdout",
     "output_type": "stream",
     "text": [
      "line\n",
      "break\n"
     ]
    }
   ],
   "source": [
    "print(\"line\\nbreak\")"
   ]
  },
  {
   "cell_type": "code",
   "execution_count": 58,
   "id": "ccac0e51-c0c3-4883-8cd0-83b2874bebbe",
   "metadata": {},
   "outputs": [
    {
     "name": "stdout",
     "output_type": "stream",
     "text": [
      "linreak\n"
     ]
    }
   ],
   "source": [
    "print(\"line\\break\")"
   ]
  },
  {
   "cell_type": "code",
   "execution_count": 59,
   "id": "42bdbb69-7ca3-492a-a39f-e39504db3f9e",
   "metadata": {},
   "outputs": [
    {
     "ename": "IndexError",
     "evalue": "string index out of range",
     "output_type": "error",
     "traceback": [
      "\u001b[1;31m---------------------------------------------------------------------------\u001b[0m",
      "\u001b[1;31mIndexError\u001b[0m                                Traceback (most recent call last)",
      "Cell \u001b[1;32mIn[59], line 1\u001b[0m\n\u001b[1;32m----> 1\u001b[0m \u001b[38;5;124m\"\u001b[39m\u001b[38;5;124mhello\u001b[39m\u001b[38;5;124m\"\u001b[39m[\u001b[38;5;241m5\u001b[39m]\n",
      "\u001b[1;31mIndexError\u001b[0m: string index out of range"
     ]
    }
   ],
   "source": [
    "\"hello\"[5]"
   ]
  },
  {
   "cell_type": "code",
   "execution_count": 60,
   "id": "4a7c2142-fa96-4160-a625-325d8ff3c3a2",
   "metadata": {},
   "outputs": [
    {
     "name": "stdout",
     "output_type": "stream",
     "text": [
      "python keyword list...\n",
      "['False', 'None', 'True', 'and', 'as', 'assert', 'async', 'await', 'break', 'class', 'continue', 'def', 'del', 'elif', 'else', 'except', 'finally', 'for', 'from', 'global', 'if', 'import', 'in', 'is', 'lambda', 'nonlocal', 'not', 'or', 'pass', 'raise', 'return', 'try', 'while', 'with', 'yield']\n"
     ]
    }
   ],
   "source": [
    "import keyword\n",
    "# search for python keywords\n",
    "print(\"python keyword list...\")\n",
    "print(keyword.kwlist)"
   ]
  },
  {
   "cell_type": "code",
   "execution_count": 61,
   "id": "01917c42-3871-4cef-957a-d848889936ec",
   "metadata": {},
   "outputs": [
    {
     "name": "stdout",
     "output_type": "stream",
     "text": [
      "<class 'int'>\n",
      "<class 'float'>\n",
      "<class 'str'>\n"
     ]
    }
   ],
   "source": [
    "num = 85\n",
    "print(type(num))\n",
    "\n",
    "p1 =3.14159\n",
    "print(type(p1))\n",
    "\n",
    "message = \"good morning\"\n",
    "print(type(message))"
   ]
  },
  {
   "cell_type": "code",
   "execution_count": 72,
   "id": "3e5a836b-b0b8-4a8f-90de-dc318b103f1f",
   "metadata": {},
   "outputs": [
    {
     "ename": "SyntaxError",
     "evalue": "expected ':' (1639395115.py, line 1)",
     "output_type": "error",
     "traceback": [
      "\u001b[1;36m  Cell \u001b[1;32mIn[72], line 1\u001b[1;36m\u001b[0m\n\u001b[1;33m    if int ==  20 is odd\u001b[0m\n\u001b[1;37m                        ^\u001b[0m\n\u001b[1;31mSyntaxError\u001b[0m\u001b[1;31m:\u001b[0m expected ':'\n"
     ]
    }
   ],
   "source": [
    " if int ==  20 is odd\n",
    " print('false , true,')"
   ]
  },
  {
   "cell_type": "code",
   "execution_count": 73,
   "id": "8bdbcdb3-d870-4b00-998a-8e608dac5a2a",
   "metadata": {},
   "outputs": [
    {
     "ename": "SyntaxError",
     "evalue": "expected ':' (852900138.py, line 1)",
     "output_type": "error",
     "traceback": [
      "\u001b[1;36m  Cell \u001b[1;32mIn[73], line 1\u001b[1;36m\u001b[0m\n\u001b[1;33m    def isOdd(number)\u001b[0m\n\u001b[1;37m                     ^\u001b[0m\n\u001b[1;31mSyntaxError\u001b[0m\u001b[1;31m:\u001b[0m expected ':'\n"
     ]
    }
   ],
   "source": [
    "def isOdd(number)\n",
    "if number%20 == 0\n",
    "return False\n"
   ]
  },
  {
   "cell_type": "code",
   "execution_count": 74,
   "id": "cb9b7bb8-be02-4af7-9080-2e8b8c85eb30",
   "metadata": {},
   "outputs": [
    {
     "ename": "SyntaxError",
     "evalue": "incomplete input (1441138017.py, line 1)",
     "output_type": "error",
     "traceback": [
      "\u001b[1;36m  Cell \u001b[1;32mIn[74], line 1\u001b[1;36m\u001b[0m\n\u001b[1;33m    n = int(input(\"Enter n:\")\u001b[0m\n\u001b[1;37m                             ^\u001b[0m\n\u001b[1;31mSyntaxError\u001b[0m\u001b[1;31m:\u001b[0m incomplete input\n"
     ]
    }
   ],
   "source": [
    "n = int(input(\"Enter n:\")"
   ]
  },
  {
   "cell_type": "code",
   "execution_count": 79,
   "id": "e52b31e8-2426-4118-bbfd-826600b94811",
   "metadata": {},
   "outputs": [
    {
     "name": "stdin",
     "output_type": "stream",
     "text": [
      "Enter n: 2\n"
     ]
    },
    {
     "name": "stdout",
     "output_type": "stream",
     "text": [
      "False\n"
     ]
    }
   ],
   "source": [
    "n= int(input(\"Enter n:\"))\n",
    "result = n %2 != 0\n",
    "print(result)"
   ]
  },
  {
   "cell_type": "code",
   "execution_count": 86,
   "id": "212df0a7-7f9f-4bd0-a42d-dc71f9ff8991",
   "metadata": {},
   "outputs": [
    {
     "name": "stdin",
     "output_type": "stream",
     "text": [
      " 2007\n"
     ]
    },
    {
     "name": "stdout",
     "output_type": "stream",
     "text": [
      "True\n"
     ]
    }
   ],
   "source": [
    "n= int(input())\n",
    "ly = n %4 != 0\n",
    "print(ly)\n"
   ]
  },
  {
   "cell_type": "code",
   "execution_count": 87,
   "id": "56b2ca78-cd9e-4f88-971c-d15df6159626",
   "metadata": {},
   "outputs": [
    {
     "name": "stdin",
     "output_type": "stream",
     "text": [
      " 2005\n"
     ]
    },
    {
     "name": "stdout",
     "output_type": "stream",
     "text": [
      "True\n"
     ]
    }
   ],
   "source": [
    "n= int(input())\n",
    "ly = n %4 != 0\n",
    "print(ly)\n"
   ]
  },
  {
   "cell_type": "code",
   "execution_count": 88,
   "id": "5013a1be-d996-40d8-89e5-50a44f862541",
   "metadata": {},
   "outputs": [
    {
     "name": "stdin",
     "output_type": "stream",
     "text": [
      " 2023\n"
     ]
    },
    {
     "name": "stdout",
     "output_type": "stream",
     "text": [
      "True\n"
     ]
    }
   ],
   "source": [
    "n= int(input())\n",
    "ly = n %4 != 0\n",
    "print(ly)\n"
   ]
  },
  {
   "cell_type": "code",
   "execution_count": 89,
   "id": "f5ea97dd-07a9-4bf0-93ea-133b9662c1bb",
   "metadata": {},
   "outputs": [
    {
     "name": "stdin",
     "output_type": "stream",
     "text": [
      " 2024\n"
     ]
    },
    {
     "name": "stdout",
     "output_type": "stream",
     "text": [
      "False\n"
     ]
    }
   ],
   "source": [
    "n= int(input())\n",
    "ly = n %4 != 0\n",
    "print(ly)"
   ]
  },
  {
   "cell_type": "code",
   "execution_count": 90,
   "id": "b69efc58-6fca-426f-8e65-61d6ca15f1ca",
   "metadata": {},
   "outputs": [
    {
     "name": "stdin",
     "output_type": "stream",
     "text": [
      " 2025\n"
     ]
    },
    {
     "name": "stdout",
     "output_type": "stream",
     "text": [
      "True\n"
     ]
    }
   ],
   "source": [
    "n= int(input())\n",
    "ly = n %4 != 0\n",
    "print(ly)"
   ]
  },
  {
   "cell_type": "code",
   "execution_count": 92,
   "id": "39824434-e32f-4db9-8274-c58aa232b68e",
   "metadata": {},
   "outputs": [
    {
     "name": "stdin",
     "output_type": "stream",
     "text": [
      " 1998\n"
     ]
    },
    {
     "name": "stdout",
     "output_type": "stream",
     "text": [
      "True\n"
     ]
    }
   ],
   "source": [
    "n= int(input())\n",
    "results = n %4 = 0\n",
    "print(results)"
   ]
  },
  {
   "cell_type": "code",
   "execution_count": 93,
   "id": "e9bd3fb2-c228-4468-8164-6ab8d562dfde",
   "metadata": {},
   "outputs": [
    {
     "ename": "SyntaxError",
     "evalue": "cannot assign to expression (4262955141.py, line 2)",
     "output_type": "error",
     "traceback": [
      "\u001b[1;36m  Cell \u001b[1;32mIn[93], line 2\u001b[1;36m\u001b[0m\n\u001b[1;33m    results = n %4 = 0\u001b[0m\n\u001b[1;37m              ^\u001b[0m\n\u001b[1;31mSyntaxError\u001b[0m\u001b[1;31m:\u001b[0m cannot assign to expression\n"
     ]
    }
   ],
   "source": [
    "n= int(input())\n",
    "results = n %4 = 0\n",
    "print(results)"
   ]
  },
  {
   "cell_type": "code",
   "execution_count": 94,
   "id": "6a44bd02-f05d-4d25-8be4-82545393ba4b",
   "metadata": {},
   "outputs": [
    {
     "name": "stdout",
     "output_type": "stream",
     "text": [
      "youth discount\n"
     ]
    }
   ],
   "source": [
    "age =18\n",
    "\n",
    "if age<20:\n",
    "    print('youth discount')"
   ]
  },
  {
   "cell_type": "code",
   "execution_count": 95,
   "id": "a698d2f1-0a52-4c2a-98bb-baae609928d8",
   "metadata": {},
   "outputs": [
    {
     "name": "stdout",
     "output_type": "stream",
     "text": [
      "youth discount\n",
      "welcome\n"
     ]
    }
   ],
   "source": [
    "age =18\n",
    "\n",
    "if age<20:\n",
    "    print('youth discount')\n",
    "    print('welcome')"
   ]
  },
  {
   "cell_type": "code",
   "execution_count": 116,
   "id": "832b910b-c3e5-4632-94b6-e77d587577a1",
   "metadata": {},
   "outputs": [
    {
     "name": "stdout",
     "output_type": "stream",
     "text": [
      "youth discount\n",
      "welcome\n"
     ]
    }
   ],
   "source": [
    "age =10\n",
    "\n",
    "if age>6:\n",
    "    print('youth discount')\n",
    "    print('welcome')"
   ]
  },
  {
   "cell_type": "code",
   "execution_count": 2,
   "id": "660641e9-770e-47f5-91e0-4a98bf71fb97",
   "metadata": {},
   "outputs": [
    {
     "name": "stdin",
     "output_type": "stream",
     "text": [
      "Enter n: 12\n"
     ]
    },
    {
     "name": "stdout",
     "output_type": "stream",
     "text": [
      "False\n"
     ]
    }
   ],
   "source": [
    "n= int(input(\"Enter n:\"))\n",
    "result = n %2 != 0\n",
    "print(result)"
   ]
  },
  {
   "cell_type": "code",
   "execution_count": null,
   "id": "8d11b7f4-4699-491a-84c3-6bf38597d42d",
   "metadata": {},
   "outputs": [],
   "source": [
    "PI=3.14\n",
    "r=int(input(\"radius:\")\n",
    "circum=2*r*PI\n",
    "area=PI*r*r  orPI**r**2\n",
    "print(circum)\n",
    "print(area)\n"
   ]
  },
  {
   "cell_type": "code",
   "execution_count": null,
   "id": "1c6ee9de-984d-4848-aa48-745643ee1dc5",
   "metadata": {},
   "outputs": [],
   "source": []
  },
  {
   "cell_type": "code",
   "execution_count": 3,
   "id": "6762cc85-9c9e-49b1-9667-b94c5de2436f",
   "metadata": {},
   "outputs": [
    {
     "name": "stdin",
     "output_type": "stream",
     "text": [
      "Enter n: 12\n"
     ]
    },
    {
     "name": "stdout",
     "output_type": "stream",
     "text": [
      "True\n"
     ]
    }
   ],
   "source": [
    "Q2 \n",
    "\n",
    "n= int(input(\"Enter n:\"))\n",
    "result = n %2 == 0 and n>0 and n<=100\n",
    "print(result)"
   ]
  },
  {
   "cell_type": "code",
   "execution_count": 4,
   "id": "8cc8c75a-b221-49ab-9e40-f8ff9a1c9fde",
   "metadata": {},
   "outputs": [
    {
     "name": "stdin",
     "output_type": "stream",
     "text": [
      "Enter n: 12\n"
     ]
    },
    {
     "name": "stdout",
     "output_type": "stream",
     "text": [
      "True\n"
     ]
    }
   ],
   "source": [
    "n= int(input(\"Enter n:\"))\n",
    "result = n %2 == 0 and n>0<=100\n",
    "print(result)"
   ]
  },
  {
   "cell_type": "code",
   "execution_count": 6,
   "id": "baf51288-2c87-4369-9821-9ab40b86b5ea",
   "metadata": {},
   "outputs": [
    {
     "name": "stdout",
     "output_type": "stream",
     "text": [
      "True\n",
      "True\n",
      "False\n"
     ]
    }
   ],
   "source": [
    "print('aaa' in 'aaa-bbb-ccc')\n",
    "print('bbb' in 'aaa-bbb-ccc')\n",
    "print('ddd' in 'aaa-bbb-ccc')"
   ]
  },
  {
   "cell_type": "code",
   "execution_count": 13,
   "id": "06221ec3-5935-42e3-927f-57c76cfa5705",
   "metadata": {},
   "outputs": [
    {
     "name": "stdin",
     "output_type": "stream",
     "text": [
      "Enter n: 10\n"
     ]
    },
    {
     "name": "stdout",
     "output_type": "stream",
     "text": [
      "True\n"
     ]
    }
   ],
   "source": [
    "even numbers work\n",
    "n= int(input(\"Enter n:\"))\n",
    "if ( n %2 == 0 and n>0 and n<=100):\n",
    "    print(result)\n",
    "    "
   ]
  },
  {
   "cell_type": "code",
   "execution_count": 14,
   "id": "0e4e777c-1911-45a7-8c0b-20feaf6df677",
   "metadata": {},
   "outputs": [
    {
     "name": "stdin",
     "output_type": "stream",
     "text": [
      "Enter n: 9\n"
     ]
    }
   ],
   "source": [
    "odd numbers not work\n",
    "n= int(input(\"Enter n:\"))\n",
    "if ( n %2 == 0 and n>0 and n<=100):\n",
    "    print(result)"
   ]
  },
  {
   "cell_type": "code",
   "execution_count": 19,
   "id": "f1b5945f-7a9f-406b-a9da-6995715726c6",
   "metadata": {},
   "outputs": [
    {
     "name": "stdin",
     "output_type": "stream",
     "text": [
      "enter three integers divided by space 10 20 30\n"
     ]
    },
    {
     "name": "stdout",
     "output_type": "stream",
     "text": [
      "input 10 20 30\n"
     ]
    },
    {
     "ename": "NameError",
     "evalue": "name 'split' is not defined",
     "output_type": "error",
     "traceback": [
      "\u001b[1;31m---------------------------------------------------------------------------\u001b[0m",
      "\u001b[1;31mNameError\u001b[0m                                 Traceback (most recent call last)",
      "Cell \u001b[1;32mIn[19], line 3\u001b[0m\n\u001b[0;32m      1\u001b[0m stri \u001b[38;5;241m=\u001b[39m \u001b[38;5;28minput\u001b[39m(\u001b[38;5;124m'\u001b[39m\u001b[38;5;124menter three integers divided by space\u001b[39m\u001b[38;5;124m'\u001b[39m)\n\u001b[0;32m      2\u001b[0m \u001b[38;5;28mprint\u001b[39m(\u001b[38;5;124m'\u001b[39m\u001b[38;5;124minput\u001b[39m\u001b[38;5;124m'\u001b[39m ,stri)\n\u001b[1;32m----> 3\u001b[0m \u001b[38;5;28mprint\u001b[39m(\u001b[38;5;124m'\u001b[39m\u001b[38;5;124minput separated by split()method: \u001b[39m\u001b[38;5;124m'\u001b[39m,stri,split())\n",
      "\u001b[1;31mNameError\u001b[0m: name 'split' is not defined"
     ]
    }
   ],
   "source": [
    "string and split method\n",
    "\n",
    "stri = input('enter three integers divided by space')\n",
    "print('input' ,stri)\n",
    "print('input separated by split()method: ',stri,split())"
   ]
  },
  {
   "cell_type": "code",
   "execution_count": 21,
   "id": "8fed02a7-6653-43b6-8224-ce2a1ea44be5",
   "metadata": {},
   "outputs": [
    {
     "ename": "IndentationError",
     "evalue": "expected an indented block after 'if' statement on line 2 (2831462189.py, line 3)",
     "output_type": "error",
     "traceback": [
      "\u001b[1;36m  Cell \u001b[1;32mIn[21], line 3\u001b[1;36m\u001b[0m\n\u001b[1;33m    print(\"adult\")\u001b[0m\n\u001b[1;37m    ^\u001b[0m\n\u001b[1;31mIndentationError\u001b[0m\u001b[1;31m:\u001b[0m expected an indented block after 'if' statement on line 2\n"
     ]
    }
   ],
   "source": [
    "age=int(input(\"Enter age:\"))\n",
    "if age>20:\n",
    "print(\"adult\")\n"
   ]
  },
  {
   "cell_type": "code",
   "execution_count": 22,
   "id": "95972ac8-25b3-49a4-9bcc-a7d1e9b88351",
   "metadata": {},
   "outputs": [
    {
     "name": "stdin",
     "output_type": "stream",
     "text": [
      "Enter age: 25\n"
     ]
    },
    {
     "name": "stdout",
     "output_type": "stream",
     "text": [
      "adult\n"
     ]
    }
   ],
   "source": [
    "age=int(input(\"Enter age:\"))\n",
    "if age>20:\n",
    "    print(\"adult\")\n",
    "if age>10 and age<=20:\n",
    "    print(\"youth\")\n",
    "if age<=10:\n",
    "    print(\"kid\")"
   ]
  },
  {
   "cell_type": "code",
   "execution_count": 23,
   "id": "682144ef-2b7c-4538-af24-579fa2c751df",
   "metadata": {},
   "outputs": [
    {
     "name": "stdin",
     "output_type": "stream",
     "text": [
      "Enter age: 10\n"
     ]
    },
    {
     "name": "stdout",
     "output_type": "stream",
     "text": [
      "kid\n"
     ]
    }
   ],
   "source": [
    "age=int(input(\"Enter age:\"))\n",
    "if age>20:\n",
    "    print(\"adult\")\n",
    "if age>10 and age<=20:\n",
    "    print(\"youth\")\n",
    "if age<=10:\n",
    "    print(\"kid\")"
   ]
  },
  {
   "cell_type": "code",
   "execution_count": 24,
   "id": "4ddf663d-fc92-423d-9ef6-18cbec6a7b9a",
   "metadata": {},
   "outputs": [
    {
     "name": "stdin",
     "output_type": "stream",
     "text": [
      "Enter age: 14\n"
     ]
    },
    {
     "name": "stdout",
     "output_type": "stream",
     "text": [
      "youth\n"
     ]
    }
   ],
   "source": [
    "age=int(input(\"Enter age:\"))\n",
    "if age>20:\n",
    "    print(\"adult\")\n",
    "if age>10 and age<=20:\n",
    "    print(\"youth\")\n",
    "if age<=10:\n",
    "    print(\"kid\")"
   ]
  },
  {
   "cell_type": "code",
   "execution_count": 27,
   "id": "4fdcb0ce-d97e-4daf-a7e2-2e2528dc3afa",
   "metadata": {},
   "outputs": [
    {
     "name": "stdout",
     "output_type": "stream",
     "text": [
      "a is greater than b\n"
     ]
    }
   ],
   "source": [
    "a=40\n",
    "b=200\n",
    "if a<b:\n",
    " print(\"a is greater than b\")"
   ]
  },
  {
   "cell_type": "code",
   "execution_count": 29,
   "id": "395af5de-1b3e-4324-89fc-0060772c203e",
   "metadata": {},
   "outputs": [
    {
     "name": "stdout",
     "output_type": "stream",
     "text": [
      "a and b are equal\n"
     ]
    }
   ],
   "source": [
    "a = 44\n",
    "b = 44\n",
    "if a<b:\n",
    "    print(\"b is greater than a\")\n",
    "elif a == b:\n",
    "    print(\"a and b are equal\")\n"
   ]
  },
  {
   "cell_type": "code",
   "execution_count": 30,
   "id": "24a9781d-5ee9-4756-9ccb-37e3fd587905",
   "metadata": {},
   "outputs": [
    {
     "name": "stdin",
     "output_type": "stream",
     "text": [
      "enter integer:  10\n"
     ]
    },
    {
     "name": "stdout",
     "output_type": "stream",
     "text": [
      "n =10\n"
     ]
    }
   ],
   "source": [
    "n = int(input(\"enter integer: \"))\n",
    "\n",
    "if 0 < n <=100:\n",
    "    print(f\"n ={n}\")\n",
    "    \n",
    "    "
   ]
  },
  {
   "cell_type": "code",
   "execution_count": 45,
   "id": "a4ca29d4-fe9c-4804-b09d-d857c6e99187",
   "metadata": {},
   "outputs": [
    {
     "name": "stdout",
     "output_type": "stream",
     "text": [
      "ello\n"
     ]
    }
   ],
   "source": [
    "b = \"Hello, World!\"\n",
    "print(b[1:5])"
   ]
  },
  {
   "cell_type": "code",
   "execution_count": 46,
   "id": "a43b332f-891e-4500-b219-7ffee2c13406",
   "metadata": {},
   "outputs": [
    {
     "name": "stdout",
     "output_type": "stream",
     "text": [
      "orl\n"
     ]
    }
   ],
   "source": [
    "b = \"Hello, World!\"\n",
    "print(b[-5:-2])"
   ]
  },
  {
   "cell_type": "code",
   "execution_count": 48,
   "id": "67666017-8a96-42ce-9e62-73d5587eca6d",
   "metadata": {},
   "outputs": [
    {
     "name": "stdin",
     "output_type": "stream",
     "text": [
      "which side will you attack?(left, middle, right) :  right\n"
     ]
    },
    {
     "name": "stdout",
     "output_type": "stream",
     "text": [
      "congrats !! offence succeeded.\n",
      "computer defence position : middle\n"
     ]
    }
   ],
   "source": [
    "import random\n",
    "\n",
    "n = random.randint(1, 3) #randomly generates numbers among 123\n",
    "if n ==1:\n",
    "    computer_choice = \"left\"\n",
    "elif n ==2:\n",
    "    computer_choice = \"middle\"\n",
    "else:\n",
    "    computer_choice = \"right\"\n",
    "\n",
    "user_choice = input(\"which side will you attack?(left, middle, right) : \")\n",
    "if computer_choice ==user_choice:\n",
    "    print(\"offence failed. \")\n",
    "else :\n",
    "    print(\"congrats !! offence succeeded.\")\n",
    "print(\"computer defence position :\", computer_choice)\n",
    "    "
   ]
  },
  {
   "cell_type": "code",
   "execution_count": 49,
   "id": "d0c6fdfd-a3c1-4107-bc3f-cc4f338f9125",
   "metadata": {},
   "outputs": [
    {
     "name": "stdin",
     "output_type": "stream",
     "text": [
      "which side will you attack?(left, middle, right) :  middle\n"
     ]
    },
    {
     "name": "stdout",
     "output_type": "stream",
     "text": [
      "congrats !! offence succeeded.\n",
      "computer defence position : left\n"
     ]
    }
   ],
   "source": [
    "import random\n",
    "\n",
    "n = random.randint(1, 3) #randomly generates numbers among 123\n",
    "if n ==1:\n",
    "    computer_choice = \"left\"\n",
    "elif n ==2:\n",
    "    computer_choice = \"middle\"\n",
    "else:\n",
    "    computer_choice = \"right\"\n",
    "\n",
    "user_choice = input(\"which side will you attack?(left, middle, right) : \")\n",
    "if computer_choice ==user_choice:\n",
    "    print(\"offence failed. \")\n",
    "else :\n",
    "    print(\"congrats !! offence succeeded.\")\n",
    "print(\"computer defence position :\", computer_choice)"
   ]
  },
  {
   "cell_type": "code",
   "execution_count": 50,
   "id": "21e01a69-594d-439f-bcdb-8425062046b7",
   "metadata": {},
   "outputs": [
    {
     "name": "stdin",
     "output_type": "stream",
     "text": [
      "which side will you attack?(left, middle, right) :  right\n"
     ]
    },
    {
     "name": "stdout",
     "output_type": "stream",
     "text": [
      "congrats !! offence succeeded.\n",
      "computer defence position : middle\n"
     ]
    }
   ],
   "source": [
    "import random\n",
    "\n",
    "n = random.randint(1, 3) #randomly generates numbers among 123\n",
    "if n ==1:\n",
    "    computer_choice = \"left\"\n",
    "elif n ==2:\n",
    "    computer_choice = \"middle\"\n",
    "else:\n",
    "    computer_choice = \"right\"\n",
    "\n",
    "user_choice = input(\"which side will you attack?(left, middle, right) : \")\n",
    "if computer_choice ==user_choice:\n",
    "    print(\"offence failed. \")\n",
    "else :\n",
    "    print(\"congrats !! offence succeeded.\")\n",
    "print(\"computer defence position :\", computer_choice)"
   ]
  },
  {
   "cell_type": "code",
   "execution_count": 55,
   "id": "323d8728-27b3-41d3-85f7-0d812346a77b",
   "metadata": {},
   "outputs": [
    {
     "name": "stdin",
     "output_type": "stream",
     "text": [
      "enter hour(in 24-hour time: 12\n"
     ]
    },
    {
     "name": "stdout",
     "output_type": "stream",
     "text": [
      "afternoon\n"
     ]
    }
   ],
   "source": [
    "hour=int(input (\"enter hour(in 24-hour time:\"))\n",
    "if hour<12:\n",
    "    print(\"morning\")\n",
    "elif hour<14 and hour<=15:\n",
    "    print(\"afternoon\")\n",
    "else:\n",
    "    print(\"evening\")"
   ]
  },
  {
   "cell_type": "code",
   "execution_count": 56,
   "id": "ca71724a-e061-4438-a5cb-23d5076247b6",
   "metadata": {},
   "outputs": [
    {
     "name": "stdin",
     "output_type": "stream",
     "text": [
      "enter hour(in 24-hour time: 16\n"
     ]
    },
    {
     "name": "stdout",
     "output_type": "stream",
     "text": [
      "evening\n"
     ]
    }
   ],
   "source": [
    "hour=int(input (\"enter hour(in 24-hour time:\"))\n",
    "if hour<12:\n",
    "    print(\"morning\")\n",
    "elif hour<14 and hour<=15:\n",
    "    print(\"afternoon\")\n",
    "else:\n",
    "    print(\"evening\")\n",
    "    "
   ]
  },
  {
   "cell_type": "code",
   "execution_count": 57,
   "id": "1c1aa5cc-f554-4946-a488-e697b96acaaf",
   "metadata": {},
   "outputs": [
    {
     "name": "stdin",
     "output_type": "stream",
     "text": [
      "enter hour(in 24-hour time: 19\n"
     ]
    },
    {
     "name": "stdout",
     "output_type": "stream",
     "text": [
      "evening\n"
     ]
    }
   ],
   "source": [
    "hour=int(input (\"enter hour(in 24-hour time:\"))\n",
    "if hour<12:\n",
    "    print(\"morning\")\n",
    "elif hour<14 and hour<=15:\n",
    "    print(\"afternoon\")\n",
    "else:\n",
    "    print(\"evening\")"
   ]
  },
  {
   "cell_type": "code",
   "execution_count": 58,
   "id": "5f40e3dc-f117-4ff4-8958-2d4dbbf1303e",
   "metadata": {},
   "outputs": [
    {
     "name": "stdin",
     "output_type": "stream",
     "text": [
      "enter hour(in 24-hour time: 12\n"
     ]
    },
    {
     "name": "stdout",
     "output_type": "stream",
     "text": [
      "afternoon\n"
     ]
    }
   ],
   "source": [
    "time=int(input (\"enter hour(in 24-hour time:\"))\n",
    "if time<12:\n",
    "    print(\"morning\")\n",
    "elif time<14 and time<=15:\n",
    "    print(\"afternoon\")\n",
    "else:\n",
    "    print(\"evening\")"
   ]
  },
  {
   "cell_type": "code",
   "execution_count": 62,
   "id": "7f1b0fa0-7270-4019-9387-27039e534589",
   "metadata": {},
   "outputs": [
    {
     "name": "stdin",
     "output_type": "stream",
     "text": [
      "enter hour(in 24-hour time: 200\n"
     ]
    },
    {
     "name": "stdout",
     "output_type": "stream",
     "text": [
      "evening\n"
     ]
    }
   ],
   "source": [
    "time=int(input (\"enter hour(in 24-hour time:\"))\n",
    "if time<12:\n",
    "    print(\"morning\")\n",
    "elif time<14 and time<=15:\n",
    "    print(\"afternoon\")\n",
    "elif: time<16 and time <=24:\n",
    "    print(\"evening\")\n",
    "\n",
    "else:\n",
    "    \n",
    "    \n",
    "    "
   ]
  },
  {
   "cell_type": "code",
   "execution_count": 97,
   "id": "2dfd47ac-23c1-4823-b0e0-0fc566a06735",
   "metadata": {},
   "outputs": [
    {
     "name": "stdout",
     "output_type": "stream",
     "text": [
      "The fruit types are:\n",
      " 1.Apples\n",
      " 2.grapes\n",
      " 3.melon\n",
      " 4.orange\n",
      "\n"
     ]
    },
    {
     "name": "stdin",
     "output_type": "stream",
     "text": [
      "...Enter fruit number...(1,2,3 and 4 ) 1\n"
     ]
    },
    {
     "name": "stdout",
     "output_type": "stream",
     "text": [
      "fruit selcted: Apple\n",
      "price: 5000\n",
      "Quantity: 0\n",
      "Total price is: 0 won,\n"
     ]
    },
    {
     "name": "stdin",
     "output_type": "stream",
     "text": [
      "insert money please(ex: 15000) >>> 6000\n"
     ]
    },
    {
     "name": "stdout",
     "output_type": "stream",
     "text": [
      "6000 won received. your change is  6000 won\n"
     ]
    }
   ],
   "source": [
    "print(\"The fruit types are:\\n 1.Apples\\n 2.grapes\\n 3.melon\\n 4.orange\\n\")\n",
    "order=int(input(\"...Enter fruit number...(1,2,3 and 4 )\"))\n",
    "\n",
    "if order == 1:\n",
    "    fruit ='Apple'\n",
    "    price = 5000\n",
    "elif order == 2:\n",
    "    fruit ='Grape'\n",
    "    price = 6000\n",
    "elif order ==3:\n",
    "    fruit = 'Mellon'\n",
    "    price = 8000\n",
    "elif order ==4:\n",
    "    fruit = 'Orange'\n",
    "    price = 2000\n",
    "else:\n",
    "    print(\"Unavailable\")\n",
    "    \n",
    "print(\"fruit selcted:\", fruit)\n",
    "print(\"price:\", price)\n",
    "print(\"Quantity:\", count)\n",
    "print(\"Total price is:\", price * count, \"won,\")\n",
    "\n",
    "money = int(input(\"insert money please(ex: 15000) >>>\"))\n",
    "if money < price * count :\n",
    "    print(\"not enough money,\")\n",
    "else:\n",
    "    change =money- price*count\n",
    "    print( money,\"won received. your change is \", change,\"won\")\n",
    "\n",
    "    "
   ]
  },
  {
   "cell_type": "code",
   "execution_count": 98,
   "id": "cb12e807-0970-4b6b-a511-8b85c19d6f6a",
   "metadata": {},
   "outputs": [
    {
     "name": "stdin",
     "output_type": "stream",
     "text": [
      " 1\n",
      " 3\n"
     ]
    },
    {
     "name": "stdout",
     "output_type": "stream",
     "text": [
      "fruit selcted: Apple\n",
      "price: 5000\n",
      "Quantity: 3\n",
      "Total price is: 15000 won,\n"
     ]
    },
    {
     "name": "stdin",
     "output_type": "stream",
     "text": [
      "insert money please(ex: 15000) >>> 50000\n"
     ]
    },
    {
     "name": "stdout",
     "output_type": "stream",
     "text": [
      "50000 won received. your change is  35000 won\n"
     ]
    }
   ],
   "source": [
    "order=int(input())\n",
    "\n",
    "if order == 1:\n",
    "    fruit ='Apple'\n",
    "    price = 5000\n",
    "elif order == 2:\n",
    "    fruit ='Grape'\n",
    "    price = 6000\n",
    "elif order ==3:\n",
    "    fruit = 'Mellon'\n",
    "    price = 8000\n",
    "elif order ==4:\n",
    "    fruit = 'Orange'\n",
    "    price = 2000\n",
    "else:\n",
    "    print(\"Unavailable\")\n",
    "\n",
    "count=int(input())\n",
    "    \n",
    "print(\"fruit selcted:\", fruit)\n",
    "print(\"price:\", price)\n",
    "print(\"Quantity:\", count)\n",
    "print(\"Total price is:\", price * count, \"won,\")\n",
    "\n",
    "money = int(input(\"insert money please(ex: 15000) >>>\"))\n",
    "if money < price * count :\n",
    "    print(\"not enough money,\")\n",
    "else:\n",
    "    change =money- price*count\n",
    "    print( money,\"won received. your change is \", change,\"won\")\n"
   ]
  },
  {
   "cell_type": "code",
   "execution_count": null,
   "id": "075cf6e5-ef85-4b27-897b-08b8276de6d0",
   "metadata": {},
   "outputs": [],
   "source": []
  },
  {
   "cell_type": "code",
   "execution_count": null,
   "id": "c17b86b5-c201-48bd-ad0c-764844565e0e",
   "metadata": {},
   "outputs": [],
   "source": []
  }
 ],
 "metadata": {
  "kernelspec": {
   "display_name": "Python 3 (ipykernel)",
   "language": "python",
   "name": "python3"
  },
  "language_info": {
   "codemirror_mode": {
    "name": "ipython",
    "version": 3
   },
   "file_extension": ".py",
   "mimetype": "text/x-python",
   "name": "python",
   "nbconvert_exporter": "python",
   "pygments_lexer": "ipython3",
   "version": "3.11.7"
  }
 },
 "nbformat": 4,
 "nbformat_minor": 5
}
